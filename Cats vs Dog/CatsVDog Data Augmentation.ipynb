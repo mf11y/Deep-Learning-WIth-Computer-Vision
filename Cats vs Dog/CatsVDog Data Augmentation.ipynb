{
 "cells": [
  {
   "cell_type": "code",
   "execution_count": 1,
   "metadata": {},
   "outputs": [],
   "source": [
    "import keras\n",
    "from keras.models import Sequential\n",
    "from keras.layers import Dense, Dropout, Activation, Flatten\n",
    "from keras.layers import Conv2D, MaxPooling2D\n",
    "from keras.preprocessing.image import ImageDataGenerator\n",
    "\n",
    "import numpy as np"
   ]
  },
  {
   "cell_type": "code",
   "execution_count": 2,
   "metadata": {},
   "outputs": [],
   "source": [
    "X_train = np.load('./Data/cnd_training.npz')['arr_0']\n",
    "y_train = np.load('./Data/cnd_training_labels.npz')['arr_0']\n",
    "\n",
    "X_test = np.load('./Data/cnd_val.npz')['arr_0']\n",
    "y_test = np.load('./Data/cnd_val_labels.npz')['arr_0']"
   ]
  },
  {
   "cell_type": "code",
   "execution_count": 3,
   "metadata": {},
   "outputs": [
    {
     "name": "stdout",
     "output_type": "stream",
     "text": [
      "Model: \"sequential\"\n",
      "_________________________________________________________________\n",
      "Layer (type)                 Output Shape              Param #   \n",
      "=================================================================\n",
      "conv2d (Conv2D)              (None, 148, 148, 32)      896       \n",
      "_________________________________________________________________\n",
      "activation (Activation)      (None, 148, 148, 32)      0         \n",
      "_________________________________________________________________\n",
      "max_pooling2d (MaxPooling2D) (None, 74, 74, 32)        0         \n",
      "_________________________________________________________________\n",
      "conv2d_1 (Conv2D)            (None, 72, 72, 32)        9248      \n",
      "_________________________________________________________________\n",
      "activation_1 (Activation)    (None, 72, 72, 32)        0         \n",
      "_________________________________________________________________\n",
      "max_pooling2d_1 (MaxPooling2 (None, 36, 36, 32)        0         \n",
      "_________________________________________________________________\n",
      "conv2d_2 (Conv2D)            (None, 34, 34, 64)        18496     \n",
      "_________________________________________________________________\n",
      "activation_2 (Activation)    (None, 34, 34, 64)        0         \n",
      "_________________________________________________________________\n",
      "max_pooling2d_2 (MaxPooling2 (None, 17, 17, 64)        0         \n",
      "_________________________________________________________________\n",
      "flatten (Flatten)            (None, 18496)             0         \n",
      "_________________________________________________________________\n",
      "dense (Dense)                (None, 64)                1183808   \n",
      "_________________________________________________________________\n",
      "activation_3 (Activation)    (None, 64)                0         \n",
      "_________________________________________________________________\n",
      "dropout (Dropout)            (None, 64)                0         \n",
      "_________________________________________________________________\n",
      "dense_1 (Dense)              (None, 1)                 65        \n",
      "_________________________________________________________________\n",
      "activation_4 (Activation)    (None, 1)                 0         \n",
      "=================================================================\n",
      "Total params: 1,212,513\n",
      "Trainable params: 1,212,513\n",
      "Non-trainable params: 0\n",
      "_________________________________________________________________\n"
     ]
    }
   ],
   "source": [
    "batch_size = 8\n",
    "epochs = 10\n",
    "\n",
    "input_shape = (X_train.shape[1], X_train.shape[2], X_train.shape[3])\n",
    "\n",
    "model = Sequential()\n",
    "model.add(Conv2D(32, (3,3), input_shape=input_shape))\n",
    "model.add(Activation('relu'))\n",
    "model.add(MaxPooling2D(pool_size=(2,2)))\n",
    "\n",
    "model.add(Conv2D(32, (3,3)))\n",
    "model.add(Activation('relu'))\n",
    "model.add(MaxPooling2D(pool_size=(2,2)))\n",
    "\n",
    "model.add(Conv2D(64,(3,3)))\n",
    "model.add(Activation('relu'))\n",
    "model.add(MaxPooling2D(pool_size=(2,2)))\n",
    "\n",
    "model.add(Flatten())\n",
    "model.add(Dense(64))\n",
    "model.add(Activation('relu'))\n",
    "model.add(Dropout(.5))\n",
    "model.add(Dense(1))\n",
    "model.add(Activation('sigmoid'))\n",
    "\n",
    "model.compile(loss='binary_crossentropy',\n",
    "             optimizer = 'RMSprop',\n",
    "             metrics=['accuracy'])\n",
    "\n",
    "model.summary()"
   ]
  },
  {
   "cell_type": "code",
   "execution_count": 4,
   "metadata": {
    "scrolled": true
   },
   "outputs": [
    {
     "name": "stdout",
     "output_type": "stream",
     "text": [
      "Epoch 1/10\n",
      "300/300 [==============================] - 34s 110ms/step - loss: 7.5186 - accuracy: 0.5214 - val_loss: 0.6892 - val_accuracy: 0.5233\n",
      "Epoch 2/10\n",
      "300/300 [==============================] - 29s 98ms/step - loss: 0.8842 - accuracy: 0.5156 - val_loss: 0.6822 - val_accuracy: 0.5415\n",
      "Epoch 3/10\n",
      "300/300 [==============================] - 29s 98ms/step - loss: 0.8929 - accuracy: 0.5734 - val_loss: 0.7253 - val_accuracy: 0.5349\n",
      "Epoch 4/10\n",
      "300/300 [==============================] - 30s 99ms/step - loss: 0.7644 - accuracy: 0.6217 - val_loss: 0.7251 - val_accuracy: 0.5266\n",
      "Epoch 5/10\n",
      "300/300 [==============================] - 29s 98ms/step - loss: 0.7380 - accuracy: 0.5895 - val_loss: 0.7222 - val_accuracy: 0.5332\n",
      "Epoch 6/10\n",
      "300/300 [==============================] - 33s 109ms/step - loss: 0.6730 - accuracy: 0.6130 - val_loss: 0.7600 - val_accuracy: 0.6047\n",
      "Epoch 7/10\n",
      "300/300 [==============================] - 36s 119ms/step - loss: 0.6997 - accuracy: 0.6491 - val_loss: 0.7971 - val_accuracy: 0.5914\n",
      "Epoch 8/10\n",
      "300/300 [==============================] - 34s 115ms/step - loss: 0.6772 - accuracy: 0.6890 - val_loss: 0.9985 - val_accuracy: 0.5681\n",
      "Epoch 9/10\n",
      "300/300 [==============================] - 34s 114ms/step - loss: 0.6058 - accuracy: 0.7038 - val_loss: 0.8286 - val_accuracy: 0.5814\n",
      "Epoch 10/10\n",
      "300/300 [==============================] - 34s 114ms/step - loss: 0.5910 - accuracy: 0.7203 - val_loss: 1.1504 - val_accuracy: 0.6096\n"
     ]
    }
   ],
   "source": [
    "history = model.fit(X_train, y_train,\n",
    "                   batch_size = batch_size, epochs=epochs,\n",
    "                   validation_data=(X_test, y_test),\n",
    "                   shuffle=True)\n",
    "\n",
    "model.save('./Model/catsVdogs.h5')"
   ]
  },
  {
   "cell_type": "code",
   "execution_count": 5,
   "metadata": {},
   "outputs": [
    {
     "name": "stdout",
     "output_type": "stream",
     "text": [
      "19/19 [==============================] - 2s 95ms/step - loss: 1.1504 - accuracy: 0.6096\n",
      "Test Loss: 1.1503639221191406 Test Accuracy: 0.6096345782279968\n"
     ]
    }
   ],
   "source": [
    "scores = model.evaluate(X_test, y_test, verbose=1)\n",
    "\n",
    "print('Test Loss:', scores[0], 'Test Accuracy:', scores[1])"
   ]
  },
  {
   "cell_type": "code",
   "execution_count": 9,
   "metadata": {},
   "outputs": [
    {
     "name": "stdout",
     "output_type": "stream",
     "text": [
      "Epoch 1/10\n",
      "300/300 [==============================] - 35s 115ms/step - loss: 0.6541 - accuracy: 0.6454 - val_loss: 0.6492 - val_accuracy: 0.6545\n",
      "Epoch 2/10\n",
      "300/300 [==============================] - 39s 129ms/step - loss: 0.6428 - accuracy: 0.6617 - val_loss: 0.6339 - val_accuracy: 0.6362\n",
      "Epoch 3/10\n",
      "300/300 [==============================] - 40s 132ms/step - loss: 0.6273 - accuracy: 0.6762 - val_loss: 0.6274 - val_accuracy: 0.6595\n",
      "Epoch 4/10\n",
      "300/300 [==============================] - 39s 130ms/step - loss: 0.6362 - accuracy: 0.6558 - val_loss: 0.6316 - val_accuracy: 0.6728\n",
      "Epoch 5/10\n",
      "300/300 [==============================] - 39s 130ms/step - loss: 0.6209 - accuracy: 0.6842 - val_loss: 0.6145 - val_accuracy: 0.6711\n",
      "Epoch 6/10\n",
      "300/300 [==============================] - 41s 137ms/step - loss: 0.6252 - accuracy: 0.6667 - val_loss: 0.6286 - val_accuracy: 0.6694\n",
      "Epoch 7/10\n",
      "300/300 [==============================] - 38s 125ms/step - loss: 0.6139 - accuracy: 0.6879 - val_loss: 0.6731 - val_accuracy: 0.6694\n",
      "Epoch 8/10\n",
      "300/300 [==============================] - 43s 144ms/step - loss: 0.6109 - accuracy: 0.6858 - val_loss: 0.6516 - val_accuracy: 0.6578\n",
      "Epoch 9/10\n",
      "300/300 [==============================] - 40s 132ms/step - loss: 0.6241 - accuracy: 0.6775 - val_loss: 0.5987 - val_accuracy: 0.6977\n",
      "Epoch 10/10\n",
      "300/300 [==============================] - 39s 130ms/step - loss: 0.6039 - accuracy: 0.6904 - val_loss: 0.6099 - val_accuracy: 0.6827\n"
     ]
    },
    {
     "data": {
      "text/plain": [
       "<tensorflow.python.keras.callbacks.History at 0x25c2ed5d790>"
      ]
     },
     "execution_count": 9,
     "metadata": {},
     "output_type": "execute_result"
    }
   ],
   "source": [
    "train_datagen = ImageDataGenerator(rescale = 1.0 / 255,\n",
    "                                   shear_range = .2,\n",
    "                                   zoom_range = .2,\n",
    "                                   rotation_range=40,\n",
    "                                   horizontal_flip = True,\n",
    "                                   fill_mode='nearest')\n",
    "test_datagen = ImageDataGenerator(rescale = 1.0 / 255)\n",
    "\n",
    "train_datagen.fit(X_train)\n",
    "test_datagen.fit(X_test)\n",
    "\n",
    "train_generator = train_datagen.flow(X_train, y_train,\n",
    "                             batch_size = batch_size)\n",
    "\n",
    "test_generator = test_datagen.flow(X_test, y_test,\n",
    "                                  batch_size=batch_size)\n",
    "\n",
    "model.fit(train_generator,\n",
    "          steps_per_epoch = len(X_train) / batch_size,\n",
    "          validation_data=test_generator,\n",
    "          validation_steps= len(X_test) / batch_size,\n",
    "          epochs=epochs)"
   ]
  }
 ],
 "metadata": {
  "kernelspec": {
   "display_name": "Python 3",
   "language": "python",
   "name": "python3"
  },
  "language_info": {
   "codemirror_mode": {
    "name": "ipython",
    "version": 3
   },
   "file_extension": ".py",
   "mimetype": "text/x-python",
   "name": "python",
   "nbconvert_exporter": "python",
   "pygments_lexer": "ipython3",
   "version": "3.8.2"
  }
 },
 "nbformat": 4,
 "nbformat_minor": 4
}
