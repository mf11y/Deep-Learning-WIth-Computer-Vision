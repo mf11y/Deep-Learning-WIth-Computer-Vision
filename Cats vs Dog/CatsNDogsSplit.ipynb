{
 "cells": [
  {
   "cell_type": "code",
   "execution_count": 1,
   "metadata": {},
   "outputs": [],
   "source": [
    "import random\n",
    "import os\n",
    "import shutil\n",
    "from os import listdir\n",
    "from os.path import isfile, join\n",
    "\n",
    "import cv2"
   ]
  },
  {
   "cell_type": "code",
   "execution_count": 2,
   "metadata": {},
   "outputs": [],
   "source": [
    "def make_dir(directory):\n",
    "    if os.path.exists(directory):\n",
    "        shutil.rmtree(directory)\n",
    "    os.makedirs(directory)\n",
    "    \n",
    "dog_train_path ='./Data/dogs/train/'\n",
    "dog_val_path = './Data/dogs/validate/'\n",
    "\n",
    "cat_train_path = './Data/cats/train/'\n",
    "cat_val_path = './Data/cats/validate/'\n",
    "\n",
    "make_dir(dog_train_path)\n",
    "make_dir(dog_val_path)\n",
    "make_dir(cat_train_path)\n",
    "make_dir(cat_val_path)"
   ]
  },
  {
   "cell_type": "code",
   "execution_count": 3,
   "metadata": {},
   "outputs": [],
   "source": [
    "total_dog_images = 1500\n",
    "total_cat_images = 1500\n",
    "\n",
    "dog_train_images = total_dog_images * .80\n",
    "cat_train_images = total_cat_images * .80\n",
    "\n",
    "training_images = []\n",
    "training_labels = []\n",
    "\n",
    "val_images = []\n",
    "val_labels = []\n",
    "\n",
    "image_path = './Data/'\n",
    "\n",
    "file_names = [f for f in listdir(image_path) if isfile(join(image_path, f))]\n",
    "\n",
    "dog_count = 0\n",
    "cat_count = 0\n",
    "\n",
    "random.shuffle(file_names)\n",
    "\n",
    "for file in file_names:\n",
    "    \n",
    "    if 'jpg' in file:\n",
    "        image = cv2.imread(image_path + file)\n",
    "        image = cv2.resize(image, (150, 150), interpolation = cv2.INTER_AREA)\n",
    "\n",
    "        if file[0] == 'd':\n",
    "            if dog_count < dog_train_images:\n",
    "                #cv2.imwrite(dog_train_path + 'd' + str(dog_count) + '.jpg', image)\n",
    "                training_images.append(image)\n",
    "                training_labels.append(0)\n",
    "            else:\n",
    "                #cv2.imwrite(dog_val_path + 'd' + str(dog_count) + '.jpg', image)\n",
    "                val_images.append(image)\n",
    "                val_labels.append(0)\n",
    "            dog_count += 1   \n",
    "        else:\n",
    "            if cat_count < cat_train_images:\n",
    "                #cv2.imwrite(cat_train_path + 'c' + str(cat_count) + '.jpg', image)\n",
    "                training_images.append(image)\n",
    "                training_labels.append(1)\n",
    "            else:\n",
    "                #cv2.imwrite(cat_val_path + 'c' + str(cat_count) + '.jpg', image)\n",
    "                val_images.append(image)\n",
    "                val_labels.append(1)\n",
    "            cat_count += 1"
   ]
  },
  {
   "cell_type": "code",
   "execution_count": 4,
   "metadata": {},
   "outputs": [],
   "source": [
    "import numpy as np"
   ]
  },
  {
   "cell_type": "code",
   "execution_count": 5,
   "metadata": {},
   "outputs": [],
   "source": [
    "np.savez('./Data/cnd_training.npz', np.array(training_images))\n",
    "np.savez('./Data/cnd_training_labels.npz', np.array(training_labels))\n",
    "\n",
    "np.savez('./Data/cnd_val.npz', np.array(val_images))\n",
    "np.savez('./Data/cnd_val_labels.npz', np.array(val_labels))"
   ]
  },
  {
   "cell_type": "code",
   "execution_count": 6,
   "metadata": {},
   "outputs": [],
   "source": [
    "X_train = np.load('./Data/cnd_training.npz')['arr_0']\n",
    "y_train = np.load('./Data/cnd_training_labels.npz')['arr_0']\n",
    "\n",
    "X_test = np.load('./Data/cnd_val.npz')['arr_0']\n",
    "y_test = np.load('./Data/cnd_val_labels.npz')['arr_0']"
   ]
  },
  {
   "cell_type": "code",
   "execution_count": 7,
   "metadata": {},
   "outputs": [],
   "source": [
    "for i in range(1,11):\n",
    "    random = np.random.randint(0, len(X_train))\n",
    "    cv2.imshow(str(y_train[random]),X_train[random])\n",
    "    cv2.waitKey(0)\n",
    "cv2.destroyAllWindows()"
   ]
  }
 ],
 "metadata": {
  "kernelspec": {
   "display_name": "Python 3",
   "language": "python",
   "name": "python3"
  },
  "language_info": {
   "codemirror_mode": {
    "name": "ipython",
    "version": 3
   },
   "file_extension": ".py",
   "mimetype": "text/x-python",
   "name": "python",
   "nbconvert_exporter": "python",
   "pygments_lexer": "ipython3",
   "version": "3.8.2"
  }
 },
 "nbformat": 4,
 "nbformat_minor": 4
}
