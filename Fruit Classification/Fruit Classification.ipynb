{
 "cells": [
  {
   "cell_type": "code",
   "execution_count": 47,
   "metadata": {},
   "outputs": [],
   "source": [
    "import os\n",
    "os.environ[\"KERAS_BACKEND\"] = \"plaidml.keras.backend\"\n",
    "\n",
    "import keras\n",
    "from keras.preprocessing.image import ImageDataGenerator\n",
    "\n",
    "from keras.models import Sequential\n",
    "from keras.layers import Dense, Dropout, Activation, Flatten\n",
    "from keras.layers import Conv2D, MaxPooling2D"
   ]
  },
  {
   "cell_type": "code",
   "execution_count": 48,
   "metadata": {},
   "outputs": [
    {
     "name": "stdout",
     "output_type": "stream",
     "text": [
      "Found 41322 images belonging to 81 classes.\n",
      "Found 13877 images belonging to 81 classes.\n"
     ]
    }
   ],
   "source": [
    "num_classes = 81\n",
    "img_rows, img_cols = 32,32\n",
    "batch_size = 64\n",
    "\n",
    "train_data_dir = './Data/Training/'\n",
    "validation_data_dir = './Data/Test/'\n",
    "\n",
    "train_datagen = ImageDataGenerator(rescale = 1.0/255,\n",
    "                                  rotation_range = 30,\n",
    "                                  width_shift_range = .3,\n",
    "                                  height_shift_range = .3,\n",
    "                                  horizontal_flip = True,\n",
    "                                  fill_mode = 'nearest')\n",
    "\n",
    "validation_datagen = ImageDataGenerator(rescale = 1.0 / 255)\n",
    "\n",
    "train_generator = train_datagen.flow_from_directory(train_data_dir,\n",
    "                                                   target_size=(img_rows, img_cols),\n",
    "                                                   batch_size = batch_size,\n",
    "                                                   class_mode = 'categorical',\n",
    "                                                   shuffle = True)\n",
    "\n",
    "validation_generator = validation_datagen.flow_from_directory(validation_data_dir,\n",
    "                                                              target_size = (img_rows, img_cols),\n",
    "                                                              batch_size = batch_size,\n",
    "                                                              class_mode = 'categorical',\n",
    "                                                              shuffle = False)"
   ]
  },
  {
   "cell_type": "code",
   "execution_count": 49,
   "metadata": {},
   "outputs": [
    {
     "name": "stdout",
     "output_type": "stream",
     "text": [
      "_________________________________________________________________\n",
      "Layer (type)                 Output Shape              Param #   \n",
      "=================================================================\n",
      "conv2d_37 (Conv2D)           (None, 32, 32, 32)        896       \n",
      "_________________________________________________________________\n",
      "activation_55 (Activation)   (None, 32, 32, 32)        0         \n",
      "_________________________________________________________________\n",
      "conv2d_38 (Conv2D)           (None, 30, 30, 32)        9248      \n",
      "_________________________________________________________________\n",
      "activation_56 (Activation)   (None, 30, 30, 32)        0         \n",
      "_________________________________________________________________\n",
      "max_pooling2d_19 (MaxPooling (None, 15, 15, 32)        0         \n",
      "_________________________________________________________________\n",
      "dropout_28 (Dropout)         (None, 15, 15, 32)        0         \n",
      "_________________________________________________________________\n",
      "conv2d_39 (Conv2D)           (None, 15, 15, 64)        18496     \n",
      "_________________________________________________________________\n",
      "activation_57 (Activation)   (None, 15, 15, 64)        0         \n",
      "_________________________________________________________________\n",
      "conv2d_40 (Conv2D)           (None, 13, 13, 64)        36928     \n",
      "_________________________________________________________________\n",
      "activation_58 (Activation)   (None, 13, 13, 64)        0         \n",
      "_________________________________________________________________\n",
      "max_pooling2d_20 (MaxPooling (None, 6, 6, 64)          0         \n",
      "_________________________________________________________________\n",
      "dropout_29 (Dropout)         (None, 6, 6, 64)          0         \n",
      "_________________________________________________________________\n",
      "flatten_10 (Flatten)         (None, 2304)              0         \n",
      "_________________________________________________________________\n",
      "dense_19 (Dense)             (None, 512)               1180160   \n",
      "_________________________________________________________________\n",
      "activation_59 (Activation)   (None, 512)               0         \n",
      "_________________________________________________________________\n",
      "dropout_30 (Dropout)         (None, 512)               0         \n",
      "_________________________________________________________________\n",
      "dense_20 (Dense)             (None, 81)                41553     \n",
      "_________________________________________________________________\n",
      "activation_60 (Activation)   (None, 81)                0         \n",
      "=================================================================\n",
      "Total params: 1,287,281\n",
      "Trainable params: 1,287,281\n",
      "Non-trainable params: 0\n",
      "_________________________________________________________________\n"
     ]
    }
   ],
   "source": [
    "input_shape = (img_rows, img_cols, 3)\n",
    "\n",
    "model = Sequential()\n",
    "\n",
    "model.add(Conv2D(32, (3,3), padding='same', input_shape=input_shape))\n",
    "model.add(Activation('relu'))\n",
    "model.add(Conv2D(32, (3,3)))\n",
    "model.add(Activation('relu'))\n",
    "model.add(MaxPooling2D(pool_size=(2,2)))\n",
    "model.add(Dropout(.25))\n",
    "\n",
    "model.add(Conv2D(64, (3,3), padding='same'))\n",
    "model.add(Activation('relu'))\n",
    "model.add(Conv2D(64, (3,3)))\n",
    "model.add(Activation('relu'))\n",
    "model.add(MaxPooling2D(pool_size=(2,2)))\n",
    "model.add(Dropout(.25))\n",
    "\n",
    "\n",
    "model.add(Flatten())\n",
    "model.add(Dense(512))\n",
    "model.add(Activation('relu'))\n",
    "model.add(Dropout(.5))\n",
    "model.add(Dense(num_classes))\n",
    "model.add(Activation('softmax'))\n",
    "\n",
    "model.summary()"
   ]
  },
  {
   "cell_type": "code",
   "execution_count": 50,
   "metadata": {},
   "outputs": [],
   "source": [
    "from keras.callbacks import ModelCheckpoint, EarlyStopping, ReduceLROnPlateau\n",
    "from keras.optimizers import RMSprop, SGD\n",
    "\n",
    "checkpoint = ModelCheckpoint('./Model/fruits_fresh_cnn_1.h5',\n",
    "                             monitor = 'val_loss',\n",
    "                             mode='min',\n",
    "                             save_best_only=True,\n",
    "                             verbose=1)\n",
    "\n",
    "earlystop = EarlyStopping(monitor = 'val_loss',\n",
    "                         min_delta= 0,\n",
    "                         patience = 3,\n",
    "                         verbose=1,\n",
    "                         restore_best_weights=True)\n",
    "\n",
    "reduce_lr = ReduceLROnPlateau(monitor='val_loss',\n",
    "                             factor=.2,\n",
    "                             patience=3,\n",
    "                             verbose = 1,\n",
    "                             min_delta = .0001)\n",
    "\n",
    "callbacks = [earlystop, checkpoint]\n",
    "\n",
    "model.compile(loss='categorical_crossentropy',\n",
    "             optimizer = RMSprop(lr=.001),\n",
    "             metrics=['accuracy'])\n",
    "\n",
    "no_train = 41322\n",
    "no_val = 13877\n",
    "epochs = 15"
   ]
  },
  {
   "cell_type": "code",
   "execution_count": 51,
   "metadata": {},
   "outputs": [
    {
     "name": "stdout",
     "output_type": "stream",
     "text": [
      "Epoch 1/15\n",
      "645/645 [==============================] - 52s 80ms/step - loss: 2.2812 - acc: 0.3390 - val_loss: 0.6598 - val_acc: 0.8022\n",
      "\n",
      "Epoch 00001: val_loss improved from inf to 0.65985, saving model to ./Model/fruits_fresh_cnn_1.h5\n",
      "Epoch 2/15\n",
      "645/645 [==============================] - 41s 63ms/step - loss: 0.8894 - acc: 0.7085 - val_loss: 0.7888 - val_acc: 0.7420\n",
      "\n",
      "Epoch 00002: val_loss did not improve from 0.65985\n",
      "Epoch 3/15\n",
      "645/645 [==============================] - 39s 61ms/step - loss: 0.5533 - acc: 0.8218 - val_loss: 0.1623 - val_acc: 0.9416\n",
      "\n",
      "Epoch 00003: val_loss improved from 0.65985 to 0.16229, saving model to ./Model/fruits_fresh_cnn_1.h5\n",
      "Epoch 4/15\n",
      "645/645 [==============================] - 39s 60ms/step - loss: 0.4094 - acc: 0.8669 - val_loss: 0.5556 - val_acc: 0.8381\n",
      "\n",
      "Epoch 00004: val_loss did not improve from 0.16229\n",
      "Epoch 5/15\n",
      "645/645 [==============================] - 39s 60ms/step - loss: 0.3328 - acc: 0.8915 - val_loss: 0.1963 - val_acc: 0.9289\n",
      "\n",
      "Epoch 00005: val_loss did not improve from 0.16229\n",
      "Epoch 6/15\n",
      "645/645 [==============================] - 39s 60ms/step - loss: 0.2762 - acc: 0.9104 - val_loss: 0.2304 - val_acc: 0.9269\n",
      "Restoring model weights from the end of the best epoch\n",
      "\n",
      "Epoch 00006: val_loss did not improve from 0.16229\n",
      "Epoch 00006: early stopping\n"
     ]
    }
   ],
   "source": [
    "history = model.fit_generator(train_generator,\n",
    "                    steps_per_epoch = no_train // batch_size,\n",
    "                    epochs  = epochs,\n",
    "                    callbacks = callbacks,\n",
    "                    validation_data = validation_generator,\n",
    "                    validation_steps=no_val // batch_size)"
   ]
  },
  {
   "cell_type": "code",
   "execution_count": null,
   "metadata": {},
   "outputs": [],
   "source": []
  },
  {
   "cell_type": "code",
   "execution_count": null,
   "metadata": {},
   "outputs": [],
   "source": []
  }
 ],
 "metadata": {
  "kernelspec": {
   "display_name": "Python 3",
   "language": "python",
   "name": "python3"
  },
  "language_info": {
   "codemirror_mode": {
    "name": "ipython",
    "version": 3
   },
   "file_extension": ".py",
   "mimetype": "text/x-python",
   "name": "python",
   "nbconvert_exporter": "python",
   "pygments_lexer": "ipython3",
   "version": "3.8.2"
  }
 },
 "nbformat": 4,
 "nbformat_minor": 4
}
